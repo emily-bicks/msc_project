{
 "cells": [
  {
   "cell_type": "code",
   "execution_count": 3,
   "id": "63c6bcfd",
   "metadata": {},
   "outputs": [],
   "source": [
    "import json\n",
    "import statistics as st"
   ]
  },
  {
   "cell_type": "code",
   "execution_count": 249,
   "id": "15ad467b",
   "metadata": {},
   "outputs": [],
   "source": [
    "fn = 'PATH TO RESULTS FILE'\n",
    "\n",
    "with open(fn,'r') as f:\n",
    "    results = json.load(f)"
   ]
  },
  {
   "cell_type": "code",
   "execution_count": 250,
   "id": "1812f47d",
   "metadata": {},
   "outputs": [],
   "source": [
    "out_com_diversities = []\n",
    "out_com_serendipities = []\n",
    "out_com_hit_rate = []\n",
    "out_com_ranks = []\n",
    "out_com_rec_total = []\n",
    "in_com_diversities = []\n",
    "in_com_serendipities = []\n",
    "in_com_hit_rate = []\n",
    "in_com_ranks = []\n",
    "in_com_rec_total = []\n",
    "for user, data in results.items():\n",
    "    out_com_diversities.append(data[\"out_community\"][\"diversity\"])\n",
    "    out_com_serendipities.append(data[\"out_community\"][\"serendipity\"])\n",
    "    out_com_hit_rate.append(data[\"out_community\"][\"accuracy\"])\n",
    "    out_com_ranks.append(data[\"out_community\"][\"average_inverse_rank\"])\n",
    "    out_com_rec_total.append(data[\"out_community\"][\"average_total_recs\"])\n",
    "    in_com_diversities.append(data[\"in_community\"][\"diversity\"])\n",
    "    in_com_hit_rate.append(data[\"in_community\"][\"accuracy\"])\n",
    "    in_com_serendipities.append(data[\"in_community\"][\"serendipity\"])\n",
    "    in_com_ranks.append(data[\"in_community\"][\"average_inverse_rank\"])\n",
    "    in_com_rec_total.append(data[\"in_community\"][\"average_total_recs\"])"
   ]
  },
  {
   "cell_type": "code",
   "execution_count": 251,
   "id": "9b387b70",
   "metadata": {},
   "outputs": [
    {
     "name": "stdout",
     "output_type": "stream",
     "text": [
      "0.42346642889887515\n",
      "0.17646085225708888\n"
     ]
    }
   ],
   "source": [
    "print(st.mean(in_com_ranks))\n",
    "print(st.mean(out_com_ranks))"
   ]
  },
  {
   "cell_type": "code",
   "execution_count": 244,
   "id": "d794eab9",
   "metadata": {},
   "outputs": [
    {
     "name": "stdout",
     "output_type": "stream",
     "text": [
      "0.6839293129333661\n",
      "0.06002117096803516\n"
     ]
    }
   ],
   "source": [
    "print(st.mean(in_com_hit_rate))\n",
    "print(st.mean(out_com_hit_rate))"
   ]
  },
  {
   "cell_type": "code",
   "execution_count": 119,
   "id": "6b611c2f",
   "metadata": {},
   "outputs": [
    {
     "name": "stdout",
     "output_type": "stream",
     "text": [
      "0.7890773999777807\n",
      "0.5985753668689252\n",
      "0.33393507645350884\n",
      "0.025354957451281707\n",
      "138.29470841317357\n"
     ]
    }
   ],
   "source": [
    "print(st.mean(out_com_diversities))\n",
    "print(st.mean(out_com_serendipities))\n",
    "print(st.mean(out_com_ranks))\n",
    "print(st.mean(out_com_hit_rate))\n",
    "print(st.mean(out_com_rec_total))"
   ]
  },
  {
   "cell_type": "code",
   "execution_count": 100,
   "id": "b43474e7",
   "metadata": {},
   "outputs": [
    {
     "name": "stdout",
     "output_type": "stream",
     "text": [
      "0.9493294212238689\n",
      "0.5278851351733118\n",
      "0.11283204833985233\n",
      "0.6839293129333661\n",
      "116.59565113023267\n"
     ]
    }
   ],
   "source": [
    "print(st.mean(in_com_diversities))\n",
    "print(st.mean(in_com_serendipities))\n",
    "print(st.mean(in_com_ranks))\n",
    "print(st.mean(in_com_hit_rate))\n",
    "print(st.mean(in_com_rec_total))"
   ]
  },
  {
   "cell_type": "code",
   "execution_count": 6,
   "id": "be7fb541",
   "metadata": {},
   "outputs": [],
   "source": [
    "baseline_fn = 'PATH TO BASELINE RESULTS FILE'\n",
    "with open(baseline_fn,'r') as f:\n",
    "    results = json.load(f)"
   ]
  },
  {
   "cell_type": "code",
   "execution_count": 7,
   "id": "4ede4333",
   "metadata": {},
   "outputs": [
    {
     "name": "stdout",
     "output_type": "stream",
     "text": [
      "0.9560703388859528\n",
      "0.5708866357605894\n",
      "0.704678106703605\n",
      "0.10384083611914705\n",
      "198.71223041473067\n"
     ]
    }
   ],
   "source": [
    "diversities = []\n",
    "serendipities = []\n",
    "hit_rates = []\n",
    "ranks = []\n",
    "rec_total = []\n",
    "for user, data in results.items():\n",
    "    diversities.append(data[\"diversity\"])\n",
    "    serendipities.append(data[\"serendipity\"])\n",
    "    hit_rates.append(data[\"accuracy\"])\n",
    "    ranks.append(data[\"average_inverse_rank\"])\n",
    "    rec_total.append(data[\"average_total_recs\"])\n",
    "print(st.mean(diversities))\n",
    "print(st.mean(serendipities))\n",
    "print(st.mean(hit_rates))\n",
    "print(st.mean(ranks))\n",
    "print(st.mean(rec_total))"
   ]
  }
 ],
 "metadata": {
  "kernelspec": {
   "display_name": "Python 3 (ipykernel)",
   "language": "python",
   "name": "python3"
  },
  "language_info": {
   "codemirror_mode": {
    "name": "ipython",
    "version": 3
   },
   "file_extension": ".py",
   "mimetype": "text/x-python",
   "name": "python",
   "nbconvert_exporter": "python",
   "pygments_lexer": "ipython3",
   "version": "3.7.3"
  }
 },
 "nbformat": 4,
 "nbformat_minor": 5
}
