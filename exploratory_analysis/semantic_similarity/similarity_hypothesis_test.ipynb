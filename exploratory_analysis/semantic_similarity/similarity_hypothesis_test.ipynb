{
 "cells": [
  {
   "cell_type": "code",
   "execution_count": 17,
   "id": "14d7326e",
   "metadata": {},
   "outputs": [],
   "source": [
    "from scipy import stats as st\n",
    "import json"
   ]
  },
  {
   "cell_type": "code",
   "execution_count": 43,
   "id": "53b952a3",
   "metadata": {},
   "outputs": [],
   "source": [
    "fn = 'results/similarity_data/hypothesis_test_data_pmi_louvain.json'\n",
    "with open(fn,'r') as f:\n",
    "    test_data = json.load(f)"
   ]
  },
  {
   "cell_type": "code",
   "execution_count": 47,
   "id": "0993ebcc",
   "metadata": {},
   "outputs": [
    {
     "name": "stdout",
     "output_type": "stream",
     "text": [
      "0.26790668850923866\n",
      "[0.22676198028961186, 0.2337227827393511, 0.23181178418412124, 0.23168210586307064, 0.2155811501840948]\n",
      "Ttest_1sampResult(statistic=-12.154273647183674, pvalue=0.00013147889201151387)\n"
     ]
    }
   ],
   "source": [
    "com_mean = test_data['community_average'][0]\n",
    "print(com_mean)\n",
    "print(test_data['averages'])\n",
    "test_results_average = st.ttest_1samp(a=test_data[\"averages\"], popmean=com_mean, alternative = 'less')\n",
    "print(test_results_average)"
   ]
  },
  {
   "cell_type": "code",
   "execution_count": 45,
   "id": "552e30dd",
   "metadata": {},
   "outputs": [
    {
     "name": "stdout",
     "output_type": "stream",
     "text": [
      "0.36399996938303475\n",
      "[0.35401081856680516, 0.3592008120994074, 0.36030996999848725, 0.37076888901142735, 0.3522429043378236]\n",
      "Ttest_1sampResult(statistic=-1.4471991447631918, pvalue=0.11069739499981636)\n"
     ]
    }
   ],
   "source": [
    "com_weighted_mean = test_data[\"community_weighted_average\"][0]\n",
    "print(com_weighted_mean)\n",
    "print(test_data['weighted_averages'])\n",
    "test_results_weighted_average = st.ttest_1samp(a=test_data[\"weighted_averages\"], popmean=com_weighted_mean, alternative = 'less')\n",
    "print(test_results_weighted_average)\n"
   ]
  },
  {
   "cell_type": "code",
   "execution_count": null,
   "id": "5fb3ee19",
   "metadata": {},
   "outputs": [],
   "source": []
  }
 ],
 "metadata": {
  "kernelspec": {
   "display_name": "Python 3 (ipykernel)",
   "language": "python",
   "name": "python3"
  },
  "language_info": {
   "codemirror_mode": {
    "name": "ipython",
    "version": 3
   },
   "file_extension": ".py",
   "mimetype": "text/x-python",
   "name": "python",
   "nbconvert_exporter": "python",
   "pygments_lexer": "ipython3",
   "version": "3.9.12"
  }
 },
 "nbformat": 4,
 "nbformat_minor": 5
}
