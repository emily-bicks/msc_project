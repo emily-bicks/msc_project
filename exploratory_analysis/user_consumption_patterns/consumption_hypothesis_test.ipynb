{
 "cells": [
  {
   "cell_type": "code",
   "execution_count": 1,
   "id": "4c55d877",
   "metadata": {},
   "outputs": [],
   "source": [
    "import sys\n",
    "sys.path.insert(1, '../Helper Functions')\n",
    "\n",
    "from scipy import stats as st\n",
    "import json\n",
    "import network_utils\n",
    "import statistics as s\n",
    "import seaborn as sns\n",
    "from collections import defaultdict\n",
    "import pandas as pd\n",
    "import numpy as np\n"
   ]
  },
  {
   "cell_type": "code",
   "execution_count": 2,
   "id": "ae868db0",
   "metadata": {},
   "outputs": [],
   "source": [
    "fn = '20_users.json'\n",
    "with open(fn,'r') as f:\n",
    "    test_data = json.load(f)"
   ]
  },
  {
   "cell_type": "code",
   "execution_count": 3,
   "id": "76c38bc9",
   "metadata": {},
   "outputs": [
    {
     "data": {
      "text/plain": [
       "<AxesSubplot:xlabel='number consumed', ylabel='Count'>"
      ]
     },
     "execution_count": 3,
     "metadata": {},
     "output_type": "execute_result"
    },
    {
     "data": {
      "image/png": "[encoded data removed]",
      "text/plain": [
       "<Figure size 432x288 with 1 Axes>"
      ]
     },
     "metadata": {
      "needs_background": "light"
     },
     "output_type": "display_data"
    }
   ],
   "source": [
    "label_prop_data = test_data['label_prop']\n",
    "temp = []\n",
    "for user, data in label_prop_data.items():\n",
    "    actual = data['actual'][0]\n",
    "    average = s.mean(data['random'])\n",
    "    temp.append([user,'observed',actual])\n",
    "    temp.append([user,'random baseline',average])\n",
    "df = pd.DataFrame(temp, columns = ['user','communities','number consumed'])\n",
    "sns.histplot(hue='communities',x='number consumed',data=df,binwidth=5,kde=True)"
   ]
  },
  {
   "cell_type": "code",
   "execution_count": 4,
   "id": "cc127fcd",
   "metadata": {},
   "outputs": [
    {
     "name": "stdout",
     "output_type": "stream",
     "text": [
      "    user      communities  number consumed            bucket\n",
      "0  18370         observed             28.0  (21.529, 32.294]\n",
      "1  18370  random baseline            182.8  (172.235, 183.0]\n",
      "2   7301         observed              1.0     (0.0, 10.765]\n",
      "3   7301  random baseline             18.7  (10.765, 21.529]\n",
      "4  18035         observed              4.0     (0.0, 10.765]\n"
     ]
    }
   ],
   "source": [
    "intervals = int(max(list(df['number consumed']))/10)\n",
    "bins = np.linspace(start=0,stop=int(max(list(df['number consumed'])))+1,num = intervals)\n",
    "#bins = np.linspace(start=0,stop=int(max(list(df['number consumed'])))+1,num = 10)\n",
    "df[\"bucket\"],bin_list = pd.cut(df['number consumed'], bins,retbins=True)\n",
    "print(df.head())\n",
    "groups = df.groupby(['communities', pd.cut(df['number consumed'], bins)])\n",
    "test_vals = pd.DataFrame(groups.size().unstack()).fillna(0)"
   ]
  },
  {
   "cell_type": "code",
   "execution_count": 5,
   "id": "983c63aa",
   "metadata": {},
   "outputs": [
    {
     "name": "stdout",
     "output_type": "stream",
     "text": [
      "136.7021175732174\n",
      "16\n",
      "0.0\n"
     ]
    }
   ],
   "source": [
    "observed = test_vals[test_vals.index=='observed'].values[0]\n",
    "expected = [val+.001 for val in test_vals[test_vals.index=='random baseline'].values[0]]\n",
    "\n",
    "test_stat = sum([((observed[i]-expected[i])**2)/expected[i] for i in range(0,len(observed))])\n",
    "df = intervals-2\n",
    "print(test_stat)\n",
    "p_val = 1 - st.chi2.cdf(test_stat, df)\n",
    "print(df)\n",
    "print(p_val)"
   ]
  },
  {
   "cell_type": "code",
   "execution_count": 6,
   "id": "337affc0",
   "metadata": {},
   "outputs": [],
   "source": [
    "louvain_data = test_data['louvain']"
   ]
  },
  {
   "cell_type": "code",
   "execution_count": 7,
   "id": "40c40b2d",
   "metadata": {},
   "outputs": [
    {
     "data": {
      "text/plain": [
       "<AxesSubplot:xlabel='number consumed', ylabel='Count'>"
      ]
     },
     "execution_count": 7,
     "metadata": {},
     "output_type": "execute_result"
    },
    {
     "data": {
      "image/png": "[encoded data removed]",
      "text/plain": [
       "<Figure size 432x288 with 1 Axes>"
      ]
     },
     "metadata": {
      "needs_background": "light"
     },
     "output_type": "display_data"
    }
   ],
   "source": [
    "temp = []\n",
    "for user, data in louvain_data.items():\n",
    "    actual = data['actual'][0]\n",
    "    average = s.mean(data['random'])\n",
    "    temp.append([user,'observed',actual])\n",
    "    temp.append([user,'random baseline',average])\n",
    "df = pd.DataFrame(temp, columns = ['user','communities','number consumed'])\n",
    "sns.histplot(hue='communities',x='number consumed',data=df,binwidth=2,kde=True)"
   ]
  },
  {
   "cell_type": "code",
   "execution_count": 8,
   "id": "a73323ca",
   "metadata": {},
   "outputs": [
    {
     "name": "stdout",
     "output_type": "stream",
     "text": [
      "    user      communities  number consumed            bucket\n",
      "0  18370         observed            12.00  (11.556, 23.111]\n",
      "1  18370  random baseline           103.15   (92.444, 104.0]\n",
      "2   7301         observed             1.00     (0.0, 11.556]\n",
      "3   7301  random baseline            19.65  (11.556, 23.111]\n",
      "4  18035         observed             1.00     (0.0, 11.556]\n"
     ]
    }
   ],
   "source": [
    "intervals = int(max(list(df['number consumed']))/10)\n",
    "bins = np.linspace(start=0,stop=int(max(list(df['number consumed'])))+1,num = intervals)\n",
    "#bins = np.linspace(start=0,stop=int(max(list(df['number consumed'])))+1,num = 10)\n",
    "df[\"bucket\"],bin_list = pd.cut(df['number consumed'], bins,retbins=True)\n",
    "print(df.head())\n",
    "groups = df.groupby(['communities', pd.cut(df['number consumed'], bins)])\n",
    "test_vals = pd.DataFrame(groups.size().unstack()).fillna(0)"
   ]
  },
  {
   "cell_type": "code",
   "execution_count": 9,
   "id": "5c47ebfb",
   "metadata": {},
   "outputs": [
    {
     "name": "stdout",
     "output_type": "stream",
     "text": [
      "270.9697263518785\n",
      "8\n",
      "0.0\n"
     ]
    }
   ],
   "source": [
    "observed = test_vals[test_vals.index=='observed'].values[0]\n",
    "expected = [val+.001 for val in test_vals[test_vals.index=='random baseline'].values[0]]\n",
    "\n",
    "test_stat = sum([((observed[i]-expected[i])**2)/expected[i] for i in range(0,len(observed))])\n",
    "df = intervals-2\n",
    "print(test_stat)\n",
    "p_val = 1 - st.chi2.cdf(test_stat, df)\n",
    "print(df)\n",
    "print(p_val)"
   ]
  }
 ],
 "metadata": {
  "kernelspec": {
   "display_name": "Python 3 (ipykernel)",
   "language": "python",
   "name": "python3"
  },
  "language_info": {
   "codemirror_mode": {
    "name": "ipython",
    "version": 3
   },
   "file_extension": ".py",
   "mimetype": "text/x-python",
   "name": "python",
   "nbconvert_exporter": "python",
   "pygments_lexer": "ipython3",
   "version": "3.9.12"
  }
 },
 "nbformat": 4,
 "nbformat_minor": 5
}
